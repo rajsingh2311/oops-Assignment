{
  "nbformat": 4,
  "nbformat_minor": 0,
  "metadata": {
    "colab": {
      "provenance": []
    },
    "kernelspec": {
      "name": "python3",
      "display_name": "Python 3"
    },
    "language_info": {
      "name": "python"
    }
  },
  "cells": [
    {
      "cell_type": "markdown",
      "source": [
        "\n",
        "\n",
        "### 1. What is Object-Oriented Programming (OOP)?  \n",
        "OOP is a programming paradigm based on concepts of classes and objects, emphasizing reusability, modularity, and real-world modeling.\n",
        "\n",
        "### 2. What is a class in OOP?  \n",
        "A class is a blueprint for creating objects, defining attributes and methods that describe the behavior and state of the object.\n",
        "\n",
        "### 3. What is an object in OOP?  \n",
        "An object is an instance of a class, representing a specific entity with defined attributes and behaviors.\n",
        "\n",
        "### 4. What is the difference between abstraction and encapsulation?  \n",
        "- **Abstraction** hides implementation details, showing only relevant features.  \n",
        "- **Encapsulation** bundles data and methods, restricting direct access to maintain integrity.\n",
        "\n",
        "### 5. What are dunder methods in Python?  \n",
        "Dunder (double underscore) methods are special methods like `__init__`, `__str__`, and `__repr__` that define behavior for built-in operations and object interactions.\n",
        "\n",
        "### 6. Explain the concept of inheritance in OOP.  \n",
        "Inheritance allows a class to acquire attributes and methods from another class, promoting code reuse and hierarchy.\n",
        "\n",
        "### 7. What is polymorphism in OOP?  \n",
        "Polymorphism enables objects of different classes to be treated uniformly based on shared interfaces or methods.\n",
        "\n",
        "### 8. How is encapsulation achieved in Python?  \n",
        "Encapsulation is achieved using private (`_var`) and protected (`__var`) attributes and methods to control access to class internals.\n",
        "\n",
        "### 9. What is a constructor in Python?  \n",
        "A constructor is the `__init__` method, automatically invoked when creating an object, used to initialize attributes.\n",
        "\n",
        "### 10. What are class and static methods in Python?  \n",
        "- **Class methods** (`@classmethod`) operate on the class itself.  \n",
        "- **Static methods** (`@staticmethod`) do not depend on class or instance and act as utility functions.\n",
        "\n",
        "### 11. What is method overloading in Python?  \n",
        "Python lacks true method overloading but achieves similar behavior using default arguments or variable arguments.\n",
        "\n",
        "### 12. What is method overriding in OOP?  \n",
        "Method overriding occurs when a subclass provides a specific implementation for a method defined in its superclass.\n",
        "\n",
        "### 13. What is a property decorator in Python?  \n",
        "The `@property` decorator defines methods that can be accessed like attributes, adding control and logic to attribute access.\n",
        "\n",
        "### 14. Why is polymorphism important in OOP?  \n",
        "Polymorphism fosters flexibility and scalability by enabling generic programming, allowing code to interact with objects of varying types uniformly.\n",
        "\n",
        "### 15. What is an abstract class in Python?  \n",
        "An abstract class, defined using `abc` module, cannot be instantiated directly and requires subclasses to implement specified abstract methods.\n",
        "\n",
        "### 16. What are the advantages of OOP?  \n",
        "OOP offers modularity, reusability, scalability, abstraction, and improved problem-solving alignment with real-world modeling.\n",
        "\n",
        "### 17. What is multiple inheritance in Python?  \n",
        "Multiple inheritance allows a class to inherit attributes and methods from more than one parent class, enabling complex hierarchies.\n",
        "\n",
        "### 18. What is the difference between a class variable and an instance variable?  \n",
        "- **Class variables** are shared across all instances.  \n",
        "- **Instance variables** are unique to each object.\n",
        "\n",
        "### 19. Explain the purpose of `__str__` and `__repr__` methods in Python.  \n",
        "- `__str__`: Returns a user-friendly string representation.  \n",
        "- `__repr__`: Returns a developer-oriented string representation for debugging.\n",
        "\n",
        "### 20. What is the significance of the `super()` function in Python?  \n",
        "`super()` calls the parent class's methods, aiding inheritance and method resolution without explicitly naming the parent class.\n",
        "\n",
        "### 21. What is the significance of the `__del__` method in Python?  \n",
        "The `__del__` method is a destructor, invoked when an object is garbage-collected to free resources or perform cleanup.\n",
        "\n",
        "### 22. What is the difference between `@staticmethod` and `@classmethod` in Python?  \n",
        "- **`@staticmethod`**: Does not require class or instance.  \n",
        "- **`@classmethod`**: Operates on the class, receiving `cls` as the first argument.\n",
        "\n",
        "### 23. How does polymorphism work in Python with inheritance?  \n",
        "Polymorphism in inheritance allows subclasses to define methods with the same name as the parent class, supporting method overriding.\n",
        "\n",
        "### 24. What is method chaining in Python OOP?  \n",
        "Method chaining calls multiple methods on the same object consecutively by returning `self` from each method.\n",
        "\n",
        "### 25. What is the purpose of the `__call__` method in Python?  \n",
        "The `__call__` method allows an object to be invoked like a function, enabling callable object behavior."
      ],
      "metadata": {
        "id": "o0_DN58YOF2N"
      }
    },
    {
      "cell_type": "code",
      "source": [
        "\n",
        "### 1. Parent Class `Animal` and Child Class `Dog`\n",
        "```python\n",
        "class Animal:\n",
        "    def speak(self):\n",
        "        print(\"This is a generic animal sound.\")\n",
        "\n",
        "class Dog(Animal):\n",
        "    def speak(self):\n",
        "        print(\"Bark!\")\n",
        "\n",
        "# Example Usage\n",
        "animal = Animal()\n",
        "dog = Dog()\n",
        "animal.speak()\n",
        "dog.speak()\n",
        "```\n"
      ],
      "metadata": {
        "id": "Nd_mW2a4Ojoq"
      },
      "execution_count": null,
      "outputs": []
    },
    {
      "cell_type": "code",
      "source": [
        "\n",
        "### 2. Abstract Class `Shape` with Derived Classes `Circle` and `Rectangle`\n",
        "```python\n",
        "from abc import ABC, abstractmethod\n",
        "\n",
        "class Shape(ABC):\n",
        "    @abstractmethod\n",
        "    def area(self):\n",
        "        pass\n",
        "\n",
        "class Circle(Shape):\n",
        "    def __init__(self, radius):\n",
        "        self.radius = radius\n",
        "\n",
        "    def area(self):\n",
        "        return 3.14 * self.radius * self.radius\n",
        "\n",
        "class Rectangle(Shape):\n",
        "    def __init__(self, length, width):\n",
        "        self.length = length\n",
        "        self.width = width\n",
        "\n",
        "    def area(self):\n",
        "        return self.length * self.width\n",
        "\n",
        "# Example Usage\n",
        "circle = Circle(5)\n",
        "rectangle = Rectangle(4, 6)\n",
        "print(\"Circle area:\", circle.area())\n",
        "print(\"Rectangle area:\", rectangle.area())\n",
        "```\n",
        "\n",
        "---\n"
      ],
      "metadata": {
        "id": "MTjBmofLOs-u"
      },
      "execution_count": null,
      "outputs": []
    },
    {
      "cell_type": "code",
      "source": [
        "\n",
        "### 3. Multi-Level Inheritance: `Vehicle`, `Car`, and `ElectricCar`\n",
        "```python\n",
        "class Vehicle:\n",
        "    def __init__(self, vehicle_type):\n",
        "        self.vehicle_type = vehicle_type\n",
        "\n",
        "class Car(Vehicle):\n",
        "    def __init__(self, vehicle_type, brand):\n",
        "        super().__init__(vehicle_type)\n",
        "        self.brand = brand\n",
        "\n",
        "class ElectricCar(Car):\n",
        "    def __init__(self, vehicle_type, brand, battery_capacity):\n",
        "        super().__init__(vehicle_type, brand)\n",
        "        self.battery_capacity = battery_capacity\n",
        "\n",
        "# Example Usage\n",
        "electric_car = ElectricCar(\"Car\", \"Tesla\", \"75 kWh\")\n",
        "print(f\"Type: {electric_car.vehicle_type}, Brand: {electric_car.brand}, Battery: {electric_car.battery_capacity}\")\n",
        "```\n",
        "\n",
        "---\n"
      ],
      "metadata": {
        "id": "fxV7SbrYOzna"
      },
      "execution_count": null,
      "outputs": []
    },
    {
      "cell_type": "code",
      "source": [
        "\n",
        "### 4. Encapsulation with `BankAccount`\n",
        "```python\n",
        "class BankAccount:\n",
        "    def __init__(self, initial_balance=0):\n",
        "        self.__balance = initial_balance\n",
        "\n",
        "    def deposit(self, amount):\n",
        "        if amount > 0:\n",
        "            self.__balance += amount\n",
        "\n",
        "    def withdraw(self, amount):\n",
        "        if 0 < amount <= self.__balance:\n",
        "            self.__balance -= amount\n",
        "        else:\n",
        "            print(\"Insufficient balance or invalid amount.\")\n",
        "\n",
        "    def check_balance(self):\n",
        "        return self.__balance\n",
        "\n",
        "# Example Usage\n",
        "account = BankAccount(100)\n",
        "account.deposit(50)\n",
        "account.withdraw(30)\n",
        "print(\"Balance:\", account.check_balance())\n",
        "```\n",
        "\n",
        "---\n"
      ],
      "metadata": {
        "id": "96PwUGfxO44p"
      },
      "execution_count": null,
      "outputs": []
    },
    {
      "cell_type": "code",
      "source": [
        "\n",
        "### 5. Runtime Polymorphism with `Instrument`\n",
        "```python\n",
        "class Instrument:\n",
        "    def play(self):\n",
        "        print(\"Playing a generic instrument.\")\n",
        "\n",
        "class Guitar(Instrument):\n",
        "    def play(self):\n",
        "        print(\"Playing the guitar.\")\n",
        "\n",
        "class Piano(Instrument):\n",
        "    def play(self):\n",
        "        print(\"Playing the piano.\")\n",
        "\n",
        "# Example Usage\n",
        "instruments = [Guitar(), Piano()]\n",
        "for instrument in instruments:\n",
        "    instrument.play()"
      ],
      "metadata": {
        "id": "YnA8vwYBO9j1"
      },
      "execution_count": null,
      "outputs": []
    },
    {
      "cell_type": "code",
      "source": [
        "\n",
        "### 6. `MathOperations` Class with Class and Static Methods\n",
        "```python\n",
        "class MathOperations:\n",
        "    @classmethod\n",
        "    def add_numbers(cls, a, b):\n",
        "        return a + b\n",
        "\n",
        "    @staticmethod\n",
        "    def subtract_numbers(a, b):\n",
        "        return a - b\n",
        "\n",
        "# Example Usage\n",
        "print(\"Addition:\", MathOperations.add_numbers(5, 3))\n",
        "print(\"Subtraction:\", MathOperations.subtract_numbers(10, 4))\n",
        "```\n",
        "\n"
      ],
      "metadata": {
        "id": "MuM_-QyTPDq_"
      },
      "execution_count": null,
      "outputs": []
    },
    {
      "cell_type": "code",
      "source": [
        "\n",
        "\n",
        "### 7. `Person` Class Counting Instances\n",
        "```python\n",
        "class Person:\n",
        "    person_count = 0\n",
        "\n",
        "    def __init__(self, name):\n",
        "        self.name = name\n",
        "        Person.person_count += 1\n",
        "\n",
        "    @classmethod\n",
        "    def get_person_count(cls):\n",
        "        return cls.person_count\n",
        "\n",
        "# Example Usage\n",
        "p1 = Person(\"Alice\")\n",
        "p2 = Person(\"Bob\")\n",
        "print(\"Total persons created:\", Person.get_person_count())\n",
        "```\n"
      ],
      "metadata": {
        "id": "_MtZjacGPIxV"
      },
      "execution_count": null,
      "outputs": []
    },
    {
      "cell_type": "code",
      "source": [
        "\n",
        "### 8. `Fraction` Class with `__str__` Method\n",
        "```python\n",
        "class Fraction:\n",
        "    def __init__(self, numerator, denominator):\n",
        "        self.numerator = numerator\n",
        "        self.denominator = denominator\n",
        "\n",
        "    def __str__(self):\n",
        "        return f\"{self.numerator}/{self.denominator}\"\n",
        "\n",
        "# Example Usage\n",
        "fraction = Fraction(3, 4)\n",
        "print(fraction)\n",
        "```\n"
      ],
      "metadata": {
        "id": "Lnhjc0DDPNDv"
      },
      "execution_count": null,
      "outputs": []
    },
    {
      "cell_type": "code",
      "source": [
        "\n",
        "### 9. Operator Overloading in `Vector` Class\n",
        "```python\n",
        "class Vector:\n",
        "    def __init__(self, x, y):\n",
        "        self.x = x\n",
        "        self.y = y\n",
        "\n",
        "    def __add__(self, other):\n",
        "        return Vector(self.x + other.x, self.y + other.y)\n",
        "\n",
        "    def __str__(self):\n",
        "        return f\"Vector({self.x}, {self.y})\"\n",
        "\n",
        "# Example Usage\n",
        "v1 = Vector(1, 2)\n",
        "v2 = Vector(3, 4)\n",
        "print(v1 + v2)\n",
        "```"
      ],
      "metadata": {
        "id": "oWm33EpHPRU9"
      },
      "execution_count": null,
      "outputs": []
    },
    {
      "cell_type": "code",
      "source": [
        "\n",
        "### 10. `Person` Class with `greet` Method\n",
        "```python\n",
        "class Person:\n",
        "    def __init__(self, name, age):\n",
        "        self.name = name\n",
        "        self.age = age\n",
        "\n",
        "    def greet(self):\n",
        "        print(f\"Hello, my name is {self.name} and I am {self.age} years old.\")\n",
        "\n",
        "# Example Usage\n",
        "person = Person(\"Alice\", 25)\n",
        "person.greet()\n",
        "```\n"
      ],
      "metadata": {
        "id": "S_709eSBPVT0"
      },
      "execution_count": null,
      "outputs": []
    },
    {
      "cell_type": "code",
      "source": [
        "\n",
        "### 11. `Student` Class with `average_grade` Method\n",
        "```python\n",
        "class Student:\n",
        "    def __init__(self, name, grades):\n",
        "        self.name = name\n",
        "        self.grades = grades\n",
        "\n",
        "    def average_grade(self):\n",
        "        return sum(self.grades) / len(self.grades)\n",
        "\n",
        "# Example Usage\n",
        "student = Student(\"Bob\", [85, 90, 78])\n",
        "print(\"Average Grade:\", student.average_grade())\n",
        "```"
      ],
      "metadata": {
        "id": "mU56_6bCPYw7"
      },
      "execution_count": null,
      "outputs": []
    },
    {
      "cell_type": "code",
      "source": [
        "\n",
        "### 12. `Rectangle` Class with Methods\n",
        "```python\n",
        "class Rectangle:\n",
        "    def set_dimensions(self, length, width):\n",
        "        self.length = length\n",
        "        self.width = width\n",
        "\n",
        "    def area(self):\n",
        "        return self.length * self.width\n",
        "\n",
        "# Example Usage\n",
        "rect = Rectangle()\n",
        "rect.set_dimensions(4, 5)\n",
        "print(\"Area:\", rect.area())\n",
        "```"
      ],
      "metadata": {
        "id": "41PCEIgRPdHi"
      },
      "execution_count": null,
      "outputs": []
    },
    {
      "cell_type": "code",
      "source": [
        "\n",
        "### 13. `Employee` Class with Derived `Manager`\n",
        "```python\n",
        "class Employee:\n",
        "    def __init__(self, hours_worked, hourly_rate):\n",
        "        self.hours_worked = hours_worked\n",
        "        self.hourly_rate = hourly_rate\n",
        "\n",
        "    def calculate_salary(self):\n",
        "        return self.hours_worked * self.hourly_rate\n",
        "\n",
        "class Manager(Employee):\n",
        "    def __init__(self, hours_worked, hourly_rate, bonus):\n",
        "        super().__init__(hours_worked, hourly_rate)\n",
        "        self.bonus = bonus\n",
        "\n",
        "    def calculate_salary(self):\n",
        "        return super().calculate_salary() + self.bonus\n",
        "\n",
        "# Example Usage\n",
        "manager = Manager(40, 50, 500)\n",
        "print(\"Manager Salary:\", manager.calculate_salary())\n",
        "```"
      ],
      "metadata": {
        "id": "w2ipWVvyPgK0"
      },
      "execution_count": null,
      "outputs": []
    },
    {
      "cell_type": "code",
      "source": [
        "### 15. `Product` Class with `total_price` Method\n",
        "```python\n",
        "class Product:\n",
        "    def __init__(self, name, price, quantity):\n",
        "        self.name = name\n",
        "        self.price = price\n",
        "        self.quantity = quantity\n",
        "\n",
        "    def total_price(self):\n",
        "        return self.price * self.quantity\n",
        "\n",
        "# Example Usage\n",
        "product = Product(\"Laptop\", 800, 2)\n",
        "print(f\"Total price of {product.name}: ${product.total_price()}\")\n",
        "```"
      ],
      "metadata": {
        "id": "uEx1gumUPqEH"
      },
      "execution_count": null,
      "outputs": []
    },
    {
      "cell_type": "code",
      "source": [
        "\n",
        "### 16. Abstract Class `Animal` with Derived Classes `Cow` and `Sheep`\n",
        "```python\n",
        "from abc import ABC, abstractmethod\n",
        "\n",
        "class Animal(ABC):\n",
        "    @abstractmethod\n",
        "    def sound(self):\n",
        "        pass\n",
        "\n",
        "class Cow(Animal):\n",
        "    def sound(self):\n",
        "        return \"Moo\"\n",
        "\n",
        "class Sheep(Animal):\n",
        "    def sound(self):\n",
        "        return \"Baa\"\n",
        "\n",
        "# Example Usage\n",
        "cow = Cow()\n",
        "sheep = Sheep()\n",
        "print(f\"Cow sound: {cow.sound()}\")\n",
        "print(f\"Sheep sound: {sheep.sound()}\")\n",
        "```"
      ],
      "metadata": {
        "id": "9AOWsc5PPujh"
      },
      "execution_count": null,
      "outputs": []
    },
    {
      "cell_type": "code",
      "source": [
        "\n",
        "### 17. `Book` Class with `get_book_info` Method\n",
        "```python\n",
        "class Book:\n",
        "    def __init__(self, title, author, year_published):\n",
        "        self.title = title\n",
        "        self.author = author\n",
        "        self.year_published = year_published\n",
        "\n",
        "    def get_book_info(self):\n",
        "        return f\"'{self.title}' by {self.author}, published in {self.year_published}\"\n",
        "\n",
        "# Example Usage\n",
        "book = Book(\"1984\", \"George Orwell\", 1949)\n",
        "print(book.get_book_info())\n",
        "```"
      ],
      "metadata": {
        "id": "CaxjVuQUPyyt"
      },
      "execution_count": null,
      "outputs": []
    },
    {
      "cell_type": "code",
      "source": [
        "\n",
        "### 18. `House` Class and Derived Class `Mansion`\n",
        "```python\n",
        "class House:\n",
        "    def __init__(self, address, price):\n",
        "        self.address = address\n",
        "        self.price = price\n",
        "\n",
        "class Mansion(House):\n",
        "    def __init__(self, address, price, number_of_rooms):\n",
        "        super().__init__(address, price)\n",
        "        self.number_of_rooms = number_of_rooms\n",
        "\n",
        "# Example Usage\n",
        "mansion = Mansion(\"123 Luxury Lane\", 5000000, 10)\n",
        "print(f\"Address: {mansion.address}, Price: ${mansion.price}, Rooms: {mansion.number_of_rooms}\")\n",
        "```"
      ],
      "metadata": {
        "id": "DTqJAhUUP2ak"
      },
      "execution_count": null,
      "outputs": []
    }
  ]
}